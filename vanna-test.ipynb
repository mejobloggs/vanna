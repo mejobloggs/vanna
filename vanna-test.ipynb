{
 "cells": [
  {
   "cell_type": "code",
   "execution_count": 1,
   "metadata": {},
   "outputs": [],
   "source": [
    "import vanna\n",
    "\n",
    "from vanna.remote import VannaDefault\n",
    "vn = VannaDefault(model='chinook', api_key='d9872152559e484a998b639b79eae6c6')\n",
    "vn.connect_to_sqlite('https://vanna.ai/Chinook.sqlite')\n",
    "vn.ask('What are the top 10 artists by sales?')\n",
    "\n",
    "from vanna.flask import VannaFlaskApp\n",
    "VannaFlaskApp(vn).run()"
   ]
  }
 ],
 "metadata": {
  "kernelspec": {
   "display_name": "base",
   "language": "python",
   "name": "python3"
  },
  "language_info": {
   "codemirror_mode": {
    "name": "ipython",
    "version": 3
   },
   "file_extension": ".py",
   "mimetype": "text/x-python",
   "name": "python",
   "nbconvert_exporter": "python",
   "pygments_lexer": "ipython3",
   "version": "3.12.2"
  }
 },
 "nbformat": 4,
 "nbformat_minor": 2
}
